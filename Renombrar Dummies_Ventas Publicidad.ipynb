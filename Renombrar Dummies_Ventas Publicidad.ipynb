{
 "cells": [
  {
   "cell_type": "code",
   "execution_count": null,
   "id": "4ab29cbf-986a-4585-ad56-e8991252c94b",
   "metadata": {},
   "outputs": [],
   "source": [
    "import pandas as pd\n",
    " \n",
    "# Modificar el código para cargar los datos de 'ventaspublicidad.csv' y renombrar las dummies con nombres de meses\n",
    " \n",
    "# Cargamos los datos directamente desde el archivo CSV\n",
    "df = pd.read_csv('ventaspublicidad.csv')\n",
    " \n",
    "# Extraer el mes de la columna 'Fecha'\n",
    "df['Mes'] = pd.to_datetime(df['Fecha']).dt.month\n",
    " \n",
    "# Mapear los números de los meses a nombres para las dummies\n",
    "nombre_meses = {\n",
    "    1: 'Enero', 2: 'Febrero', 3: 'Marzo', 4: 'Abril',\n",
    "    5: 'Mayo', 6: 'Junio', 7: 'Julio', 8: 'Agosto',\n",
    "    9: 'Septiembre', 10: 'Octubre', 11: 'Noviembre', 12: 'Diciembre'\n",
    "}\n",
    " \n",
    "# Convertir el mes en variables dummy\n",
    "mes_dummies = pd.get_dummies(df['Mes']).rename(columns=nombre_meses)\n",
    " \n",
    "# Remover la columna de enero para evitar multicolinealidad\n",
    "if 'Enero' in mes_dummies.columns:\n",
    "    mes_dummies = mes_dummies.drop('Enero', axis=1)\n",
    " \n",
    "# Concatenar las columnas dummy al DataFrame original\n",
    "df_final = pd.concat([df, mes_dummies], axis=1)\n",
    " \n",
    "# Eliminar la columna del mes original ya que no se necesita más\n",
    "df_final = df_final.drop('Mes', axis=1)\n",
    " \n",
    "# Mostrar las primeras líneas del DataFrame final con los nombres de los meses\n",
    "df_final.head()"
   ]
  }
 ],
 "metadata": {
  "kernelspec": {
   "display_name": "Python 3 (ipykernel)",
   "language": "python",
   "name": "python3"
  },
  "language_info": {
   "codemirror_mode": {
    "name": "ipython",
    "version": 3
   },
   "file_extension": ".py",
   "mimetype": "text/x-python",
   "name": "python",
   "nbconvert_exporter": "python",
   "pygments_lexer": "ipython3",
   "version": "3.11.7"
  }
 },
 "nbformat": 4,
 "nbformat_minor": 5
}
